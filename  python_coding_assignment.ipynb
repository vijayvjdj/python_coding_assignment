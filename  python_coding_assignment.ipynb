{
 "cells": [
  {
   "cell_type": "code",
   "execution_count": null,
   "id": "d29eda42-2428-4e4a-bafe-d3249a3f66f1",
   "metadata": {},
   "outputs": [],
   "source": [
    "# Project Title: Fundamentals of Python programming Assignment for Certification\n",
    "## Introduction\n",
    "\"\"\"\n",
    "This project consists of 15 coding exercises designed to test and enhance your Python programming skills. The assignment is divided into three sections:\n",
    "\n",
    "- **Section 1: Python Operators and Control Structures**\n",
    "- **Section 2: Lists and Dictionaries**\n",
    "- **Section 3: Advanced Topics**\n",
    "\n",
    "The goal of this project is to strengthen your understanding of fundamental Python concepts and improve your ability to apply these concepts in real-world scenarios.\n",
    "\"\"\""
   ]
  },
  {
   "cell_type": "code",
   "execution_count": null,
   "id": "f6c9a9da-3120-4834-a5e7-c35c1eeb2406",
   "metadata": {},
   "outputs": [],
   "source": [
    "# Question 1\n",
    "\"\"\"\n",
    "## Question 1: Calculate the sum of all numbers in a list using a for loop\n",
    "### Sample Input:\n",
    "numbers = [1, 2, 3, 4, 5]\n",
    "### Expected Output:\n",
    "15\n",
    "\"\"\""
   ]
  },
  {
   "cell_type": "code",
   "execution_count": 2,
   "id": "3107f38b-1d2b-498f-84ab-9cc32d9208a7",
   "metadata": {},
   "outputs": [
    {
     "name": "stdout",
     "output_type": "stream",
     "text": [
      "15\n"
     ]
    }
   ],
   "source": [
    "# Solution 1\n",
    "\n",
    "def sum_of_numbers(numbers):\n",
    "    total = 0\n",
    "    for num in numbers:\n",
    "        total += num\n",
    "    return total\n",
    "\n",
    "numbers = [1, 2, 3, 4, 5]\n",
    "print(sum_of_numbers(numbers))  # Output: 15"
   ]
  },
  {
   "cell_type": "code",
   "execution_count": null,
   "id": "f77f0328-b55d-4543-a760-9abaa5c6667e",
   "metadata": {},
   "outputs": [],
   "source": [
    "# Question 2\n",
    "\"\"\"\n",
    "## Question 2: What is the output of the following code?\n",
    "### Code:\n",
    "```python\n",
    "x = 5\n",
    "y = 2\n",
    "print(x ** y)\n",
    "```\n",
    "### Expected Output:\n",
    "25\n",
    "\"\"\""
   ]
  },
  {
   "cell_type": "code",
   "execution_count": 3,
   "id": "84367e57-8d2c-4305-9172-7684127f47d7",
   "metadata": {},
   "outputs": [
    {
     "name": "stdout",
     "output_type": "stream",
     "text": [
      "25\n"
     ]
    }
   ],
   "source": [
    "# Solution 2\n",
    "\n",
    "def exponentiation(x, y):\n",
    "    return x ** y\n",
    "\n",
    "x = 5\n",
    "y = 2\n",
    "print(exponentiation(x, y))  # Output: 25"
   ]
  },
  {
   "cell_type": "code",
   "execution_count": null,
   "id": "9706067c-5669-4bc3-9f8d-a821fea0a2dd",
   "metadata": {},
   "outputs": [],
   "source": [
    "# Question 3\n",
    "\"\"\"\n",
    "## Question 3: Write a Python program to check if a number is a palindrome using a while loop.\n",
    "### Sample Input:\n",
    "num = 12321\n",
    "### Expected Output:\n",
    "True\n",
    "\"\"\""
   ]
  },
  {
   "cell_type": "code",
   "execution_count": 6,
   "id": "c9f41f80-c9c2-4e20-aa3f-255a1f40d919",
   "metadata": {},
   "outputs": [
    {
     "name": "stdout",
     "output_type": "stream",
     "text": [
      "True\n"
     ]
    }
   ],
   "source": [
    "# Solution 3\n",
    "\n",
    "def is_palindrome(number):\n",
    "    original_number = number\n",
    "    reversed_number = 0\n",
    "    while number > 0:\n",
    "        digit = number % 10\n",
    "        reversed_number = reversed_number * 10 + digit\n",
    "        number //= 10\n",
    "    return original_number == reversed_number\n",
    "\n",
    "number = 12321\n",
    "print(is_palindrome(number))  # Output: True"
   ]
  },
  {
   "cell_type": "code",
   "execution_count": null,
   "id": "31578f4a-6a39-4a77-88df-ef1d6cf0663f",
   "metadata": {},
   "outputs": [],
   "source": [
    "# Question 4\n",
    "\"\"\"\n",
    "## Question 4: What is the output of the following code?\n",
    "### Code:\n",
    "```python\n",
    "fruits = ['apple', 'banana', 'cherry']\n",
    "print(fruits[-1])\n",
    "```\n",
    "### Expected Output:\n",
    "cherry\n",
    "\"\"\""
   ]
  },
  {
   "cell_type": "code",
   "execution_count": 7,
   "id": "f4a4fce5-c53a-4554-924e-7312452c96d4",
   "metadata": {},
   "outputs": [
    {
     "name": "stdout",
     "output_type": "stream",
     "text": [
      "cherry\n"
     ]
    }
   ],
   "source": [
    "# Solution 4\n",
    "\n",
    "def last_fruit(lst):\n",
    "    return lst[-1]\n",
    "\n",
    "fruits = ['apple', 'banana', 'cherry']\n",
    "print(last_fruit(fruits))  # Output: cherry"
   ]
  },
  {
   "cell_type": "code",
   "execution_count": null,
   "id": "8f095bbf-5865-4ce8-9d70-c9e12d62e5d2",
   "metadata": {},
   "outputs": [],
   "source": [
    "# Question 5\n",
    "\"\"\"\n",
    "## Question 5: Write a Python program to calculate the average of all numbers in a list using a for loop.\n",
    "### Sample Input:\n",
    "numbers = [1, 2, 3, 4, 5]\n",
    "### Expected Output:\n",
    "3.0\n",
    "\"\"\""
   ]
  },
  {
   "cell_type": "code",
   "execution_count": 8,
   "id": "3a5828d8-2497-43d1-b6d6-c561670b8279",
   "metadata": {},
   "outputs": [
    {
     "name": "stdout",
     "output_type": "stream",
     "text": [
      "3.0\n"
     ]
    }
   ],
   "source": [
    "# Solution 5\n",
    "\n",
    "def average_of_numbers(numbers):\n",
    "    total = 0\n",
    "    count = 0\n",
    "    for num in numbers:\n",
    "        total += num\n",
    "        count += 1\n",
    "    return total / count if count > 0 else 0\n",
    "\n",
    "numbers = [1, 2, 3, 4, 5]\n",
    "print(average_of_numbers(numbers))  # Output: 3.0"
   ]
  },
  {
   "cell_type": "code",
   "execution_count": null,
   "id": "9ccd78e2-5844-4c89-aecf-bf9a903839c4",
   "metadata": {},
   "outputs": [],
   "source": [
    "# Question 6\n",
    "\"\"\"\n",
    "## Question 6: Write a Python program to create a dictionary with student names as keys and their grades as values.\n",
    "### Sample Input:\n",
    "students = ['John', 'Alice', 'Bob']\n",
    "grades = [90, 85, 95]\n",
    "### Expected Output:\n",
    "{'John': 90, 'Alice': 85, 'Bob': 95}\n",
    "\"\"\""
   ]
  },
  {
   "cell_type": "code",
   "execution_count": 9,
   "id": "554b3391-b2da-49d7-ad48-3d5ca337c3a2",
   "metadata": {},
   "outputs": [
    {
     "name": "stdout",
     "output_type": "stream",
     "text": [
      "{'John': 90, 'Alice': 85, 'Bob': 95}\n"
     ]
    }
   ],
   "source": [
    "# Solution 6\n",
    "\n",
    "def create_dict(students, grades):\n",
    "    return dict(zip(students, grades))\n",
    "\n",
    "students = ['John', 'Alice', 'Bob']\n",
    "grades = [90, 85, 95]\n",
    "print(create_dict(students, grades))"
   ]
  },
  {
   "cell_type": "code",
   "execution_count": null,
   "id": "7330afbc-b9c1-4724-ad5d-2ea9325b348a",
   "metadata": {},
   "outputs": [],
   "source": [
    "# Question 7\n",
    "\"\"\"\n",
    "## Question 7: What is the output of the following code?\n",
    "```python\n",
    "numbers = [1, 2, 3, 4, 5]\n",
    "print(numbers[1:3])\n",
    "```\n",
    "### Expected Output:\n",
    "[2, 3]\n",
    "\"\"\"\n"
   ]
  },
  {
   "cell_type": "code",
   "execution_count": 10,
   "id": "7748e1d9-eb36-4476-b924-aaf8da752c19",
   "metadata": {},
   "outputs": [
    {
     "name": "stdout",
     "output_type": "stream",
     "text": [
      "[2, 3]\n"
     ]
    }
   ],
   "source": [
    "# Solution 7\n",
    "\n",
    "numbers = [1, 2, 3, 4, 5]\n",
    "print(numbers[1:3])  # Output: [2, 3]"
   ]
  },
  {
   "cell_type": "code",
   "execution_count": null,
   "id": "49e7b346-98e7-4e2e-a9d9-8f17d26ba677",
   "metadata": {},
   "outputs": [],
   "source": [
    "# Question 8\n",
    "\"\"\"\n",
    "## Question 8: Write a Python program to sort a list of numbers in ascending order using the sorted() function.\n",
    "### Sample Input:\n",
    "numbers = [4, 2, 9, 6, 5]\n",
    "### Expected Output:\n",
    "[2, 4, 5, 6, 9]\n",
    "\"\"\""
   ]
  },
  {
   "cell_type": "code",
   "execution_count": 11,
   "id": "dfbdc53c-f03f-4155-b91d-b748eb649274",
   "metadata": {},
   "outputs": [
    {
     "name": "stdout",
     "output_type": "stream",
     "text": [
      "[2, 4, 5, 6, 9]\n"
     ]
    }
   ],
   "source": [
    "# Solution 8\n",
    "\n",
    "numbers = [4, 2, 9, 6, 5]\n",
    "print(sorted(numbers))"
   ]
  },
  {
   "cell_type": "code",
   "execution_count": null,
   "id": "2f3961ec-97ee-4781-b7d8-798a6f2f7b69",
   "metadata": {},
   "outputs": [],
   "source": [
    "# Question 9\n",
    "\"\"\"\n",
    "## Question 9: What is the output of the following code?\n",
    "```python\n",
    "fruits = {'apple': 5, 'banana': 10, 'cherry': 15}\n",
    "print(fruits.get('banana'))\n",
    "```\n",
    "### Expected Output:\n",
    "10\n",
    "\"\"\""
   ]
  },
  {
   "cell_type": "code",
   "execution_count": 12,
   "id": "269128dd-c418-4220-9800-b7b716ddb13d",
   "metadata": {},
   "outputs": [
    {
     "name": "stdout",
     "output_type": "stream",
     "text": [
      "10\n"
     ]
    }
   ],
   "source": [
    "# Solution 9\n",
    "\n",
    "fruits = {'apple': 5, 'banana': 10, 'cherry': 15}\n",
    "print(fruits.get('banana'))  # Output: 10"
   ]
  },
  {
   "cell_type": "code",
   "execution_count": null,
   "id": "d7c3ac3e-f575-4f78-b701-a8978630e267",
   "metadata": {},
   "outputs": [],
   "source": [
    "# Question 10\n",
    "\"\"\"\n",
    "## Question 10: Write a Python program to create a list of squares of all numbers from 1 to 10 using a list comprehension.\n",
    "### Expected Output:\n",
    "[1, 4, 9, 16, 25, 36, 49, 64, 81, 100]\n",
    "\"\"\""
   ]
  },
  {
   "cell_type": "code",
   "execution_count": 13,
   "id": "f4fda182-dd02-4752-8e84-cab8944ad97c",
   "metadata": {},
   "outputs": [
    {
     "name": "stdout",
     "output_type": "stream",
     "text": [
      "[1, 4, 9, 16, 25, 36, 49, 64, 81, 100]\n"
     ]
    }
   ],
   "source": [
    "# Solution 10\n",
    "\n",
    "squares = [x ** 2 for x in range(1, 11)]\n",
    "print(squares)"
   ]
  },
  {
   "cell_type": "code",
   "execution_count": null,
   "id": "dbe277eb-0ea2-4360-b8fd-9ddbd4a07f6a",
   "metadata": {},
   "outputs": [],
   "source": [
    "# Question 11\n",
    "\"\"\"\n",
    "## Question 11: Write a Python program to calculate the factorial of a number using recursion.\n",
    "### Sample Input:\n",
    "num = 5\n",
    "### Expected Output:\n",
    "120\n",
    "\"\"\""
   ]
  },
  {
   "cell_type": "code",
   "execution_count": 14,
   "id": "bd6231f2-80c5-45c5-89a0-37d66657be99",
   "metadata": {},
   "outputs": [
    {
     "name": "stdout",
     "output_type": "stream",
     "text": [
      "120\n"
     ]
    }
   ],
   "source": [
    "# Solution 11\n",
    "\n",
    "def factorial(n):\n",
    "    return 1 if n == 0 else n * factorial(n - 1)\n",
    "\n",
    "num = 5\n",
    "print(factorial(num))  # Output: 120"
   ]
  },
  {
   "cell_type": "code",
   "execution_count": null,
   "id": "5a47d770-1e71-4a2c-a48f-2ae204fae1e5",
   "metadata": {},
   "outputs": [],
   "source": [
    "# Question 12\n",
    "\"\"\"\n",
    "## Question 12: What is the output of the following code?\n",
    "```python\n",
    "numbers = [1, 2, 3, 4, 5]\n",
    "print(list(reversed(numbers)))\n",
    "```\n",
    "### Expected Output:\n",
    "[5, 4, 3, 2, 1]\n",
    "\"\"\""
   ]
  },
  {
   "cell_type": "code",
   "execution_count": 15,
   "id": "05cb6228-edee-4490-a876-7bb35040a18b",
   "metadata": {},
   "outputs": [
    {
     "name": "stdout",
     "output_type": "stream",
     "text": [
      "[5, 4, 3, 2, 1]\n"
     ]
    }
   ],
   "source": [
    "# Solution 12\n",
    "\n",
    "numbers = [1, 2, 3, 4, 5]\n",
    "print(list(reversed(numbers)))  # Output: [5, 4, 3, 2, 1]"
   ]
  },
  {
   "cell_type": "code",
   "execution_count": null,
   "id": "0304567b-1151-45f0-9947-0da23c19a8ec",
   "metadata": {},
   "outputs": [],
   "source": [
    "# Question 13\n",
    "\"\"\"\n",
    "## Question 13: Write a Python program to create a generator that yields the Fibonacci sequence up to the nth term.\n",
    "### Sample Input:\n",
    "n = 10\n",
    "### Expected Output:\n",
    "[0, 1, 1, 2, 3, 5, 8, 13, 21, 34]\n",
    "\"\"\""
   ]
  },
  {
   "cell_type": "code",
   "execution_count": 16,
   "id": "c5d256a8-24ae-4550-8bc8-5534afc96791",
   "metadata": {},
   "outputs": [
    {
     "name": "stdout",
     "output_type": "stream",
     "text": [
      "[0, 1, 1, 2, 3, 5, 8, 13, 21, 34]\n"
     ]
    }
   ],
   "source": [
    "# Solution 13\n",
    "\n",
    "def fibonacci(n):\n",
    "    a, b = 0, 1\n",
    "    for _ in range(n):\n",
    "        yield a\n",
    "        a, b = b, a + b\n",
    "\n",
    "n = 10\n",
    "print(list(fibonacci(n)))"
   ]
  },
  {
   "cell_type": "code",
   "execution_count": null,
   "id": "91d88b47-5c43-4fc8-a4c5-52deb3004d67",
   "metadata": {},
   "outputs": [],
   "source": [
    "# Question 14\n",
    "\"\"\"\n",
    "## Question 14: What is the output of the following code?\n",
    "```python\n",
    "import math\n",
    "print(math.pi)\n",
    "```\n",
    "### Expected Output:\n",
    "3.14159...\n",
    "\"\"\""
   ]
  },
  {
   "cell_type": "code",
   "execution_count": 17,
   "id": "f40d5ac8-1e0b-4aba-b988-29d466282c67",
   "metadata": {},
   "outputs": [
    {
     "name": "stdout",
     "output_type": "stream",
     "text": [
      "3.141592653589793\n"
     ]
    }
   ],
   "source": [
    "# Solution 14\n",
    "\n",
    "import math\n",
    "print(math.pi)  # Output: 3.14159..."
   ]
  },
  {
   "cell_type": "code",
   "execution_count": null,
   "id": "b1c3c65a-f5c7-41d6-9ce9-567138b59946",
   "metadata": {},
   "outputs": [],
   "source": [
    "# Question 15\n",
    "\"\"\"\n",
    "## Question 15: Write a Python program to print the inverted star pyramid of height 5.\n",
    "\"\"\""
   ]
  },
  {
   "cell_type": "code",
   "execution_count": 18,
   "id": "96263ea0-6990-4ce8-86e0-34dbd6c306bb",
   "metadata": {},
   "outputs": [
    {
     "name": "stdout",
     "output_type": "stream",
     "text": [
      "*********\n",
      " *******\n",
      "  *****\n",
      "   ***\n",
      "    *\n"
     ]
    }
   ],
   "source": [
    "# Solution 15\n",
    "\n",
    "def inverted_star_pyramid(height):\n",
    "    for i in range(height, 0, -1):\n",
    "        print(' ' * (height - i) + '*' * (2 * i - 1))\n",
    "\n",
    "inverted_star_pyramid(5)"
   ]
  }
 ],
 "metadata": {
  "kernelspec": {
   "display_name": "Python 3 (ipykernel)",
   "language": "python",
   "name": "python3"
  },
  "language_info": {
   "codemirror_mode": {
    "name": "ipython",
    "version": 3
   },
   "file_extension": ".py",
   "mimetype": "text/x-python",
   "name": "python",
   "nbconvert_exporter": "python",
   "pygments_lexer": "ipython3",
   "version": "3.13.2"
  }
 },
 "nbformat": 4,
 "nbformat_minor": 5
}
